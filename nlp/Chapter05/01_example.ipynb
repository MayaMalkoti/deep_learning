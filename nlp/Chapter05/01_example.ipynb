{
 "cells": [
  {
   "cell_type": "markdown",
   "metadata": {},
   "source": [
    "<h1> Topic modeling with NLTK webtext corpus using gensim </h1>"
   ]
  },
  {
   "cell_type": "code",
   "execution_count": 1,
   "metadata": {},
   "outputs": [],
   "source": [
    "from nltk.corpus import webtext, stopwords\n",
    "import gensim\n",
    "import random\n",
    "from pprint import pprint\n",
    "import numpy as np\n",
    "import logging"
   ]
  },
  {
   "cell_type": "code",
   "execution_count": 2,
   "metadata": {
    "collapsed": true
   },
   "outputs": [],
   "source": [
    "firefox = webtext.sents('firefox.txt')\n",
    "wine = webtext.sents('wine.txt')\n",
    "pirates = webtext.sents('pirates.txt')"
   ]
  },
  {
   "cell_type": "code",
   "execution_count": 3,
   "metadata": {
    "collapsed": true
   },
   "outputs": [],
   "source": [
    "all_docs = []\n",
    "all_docs.extend(firefox)\n",
    "all_docs.extend(pirates)\n",
    "all_docs.extend(wine)\n",
    "random.shuffle(all_docs)"
   ]
  },
  {
   "cell_type": "code",
   "execution_count": 4,
   "metadata": {
    "collapsed": true
   },
   "outputs": [],
   "source": [
    "docs = [[word for word in doc if word not in stopwords.words('english')] for doc in all_docs]\n",
    "docs = [doc for doc in docs if len(doc)>1]"
   ]
  },
  {
   "cell_type": "code",
   "execution_count": 5,
   "metadata": {
    "collapsed": true
   },
   "outputs": [],
   "source": [
    "corp_dict = gensim.corpora.Dictionary(docs)\n",
    "txt_corp = [corp_dict.doc2bow(doc) for doc in docs]\n",
    "model = gensim.models.LdaModel(corpus=txt_corp, id2word=corp_dict, num_topics=3,passes=20)"
   ]
  },
  {
   "cell_type": "code",
   "execution_count": 7,
   "metadata": {},
   "outputs": [
    {
     "name": "stdout",
     "output_type": "stream",
     "text": [
      "Topic 1: \n",
      "[(0.029881895, '.'), (0.024481267, '\"'), (0.01882249, \"'\"), (0.0170948, '-'), (0.009613389, '('), (0.00883141, 'page'), (0.008077772, ')'), (0.0076322197, 'window'), (0.007500359, 'Firefox'), (0.0061992686, 'open'), (0.005976929, 'tab'), (0.0056855655, 'bar'), (0.005637664, 'menu'), (0.0056288275, 'Firebird'), (0.005585706, 'new'), (0.0055412366, ':'), (0.0052952855, 'work'), (0.0048988047, 'browser'), (0.0046260282, '0'), (0.0044865166, 'bookmarks')]\n",
      "Topic 2: \n",
      "[(0.109800756, '.'), (0.056864742, ','), (0.032302454, '-'), (0.017963096, 'I'), (0.016360251, '***'), (0.010403186, 'fruit'), (0.00963917, 'good'), (0.008922442, 'A'), (0.00891424, \"'\"), (0.008437959, 'bit'), (0.00798342, 'wine'), (0.0075653163, 'Very'), (0.007239987, 'quite'), (0.0064148703, 'Top'), (0.0058890707, '****'), (0.0056465534, '**'), (0.0054969117, 'nose'), (0.005470341, 'touch'), (0.004833421, 'Bare'), (0.004469138, 'dry')]\n",
      "Topic 3: \n",
      "[(0.049107227, ':'), (0.040012147, ','), (0.03354457, '['), (0.033180535, ']'), (0.026710026, '.'), (0.025006456, \"'\"), (0.023302894, '!'), (0.014321467, 'Jack'), (0.013084672, '?'), (0.010587175, '*'), (0.009641942, 'JACK'), (0.009641942, 'SPARROW'), (0.0067843418, 'TURNER'), (0.0067843418, 'WILL'), (0.0065944158, 'Will'), (0.006260259, '...'), (0.0061137266, 'I'), (0.004676253, 'SWANN'), (0.004676253, 'ELIZABETH'), (0.0046182596, 'GIBBS')]\n"
     ]
    }
   ],
   "source": [
    "top_topics = model.top_topics(txt_corp)\n",
    "print(\"Topic 1: \")\n",
    "print(top_topics[0][0])\n",
    "print(\"Topic 2: \")\n",
    "print(top_topics[1][0])\n",
    "print(\"Topic 3: \")\n",
    "print(top_topics[2][0])"
   ]
  },
  {
   "cell_type": "code",
   "execution_count": null,
   "metadata": {
    "collapsed": true
   },
   "outputs": [],
   "source": []
  }
 ],
 "metadata": {
  "kernelspec": {
   "display_name": "Python 3",
   "language": "python",
   "name": "python3"
  },
  "language_info": {
   "codemirror_mode": {
    "name": "ipython",
    "version": 3
   },
   "file_extension": ".py",
   "mimetype": "text/x-python",
   "name": "python",
   "nbconvert_exporter": "python",
   "pygments_lexer": "ipython3",
   "version": "3.6.3"
  }
 },
 "nbformat": 4,
 "nbformat_minor": 2
}
