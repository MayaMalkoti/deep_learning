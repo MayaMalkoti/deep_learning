{
 "cells": [
  {
   "cell_type": "markdown",
   "metadata": {},
   "source": [
    "<h1> Identifying spam in popular YouTube videos comments </h1>\n",
    "<p1>TODO: Short Description of the data and the approach.</p1>\n",
    "<p2>TODO: Description of the code in all cells </p2>"
   ]
  },
  {
   "cell_type": "code",
   "execution_count": 1,
   "metadata": {},
   "outputs": [
    {
     "name": "stderr",
     "output_type": "stream",
     "text": [
      "/Users/i346047/anaconda3/lib/python3.6/importlib/_bootstrap.py:219: RuntimeWarning: compiletime version 3.5 of module 'tensorflow.python.framework.fast_tensor_util' does not match runtime version 3.6\n",
      "  return f(*args, **kwds)\n",
      "/Users/i346047/anaconda3/lib/python3.6/site-packages/h5py/__init__.py:34: FutureWarning: Conversion of the second argument of issubdtype from `float` to `np.floating` is deprecated. In future, it will be treated as `np.float64 == np.dtype(float).type`.\n",
      "  from ._conv import register_converters as _register_converters\n"
     ]
    }
   ],
   "source": [
    "import tensorflow as tf\n",
    "import pandas as pd\n",
    "import numpy as np\n",
    "from sklearn import model_selection\n",
    "from sklearn import metrics\n",
    "import zipfile\n",
    "COMMENTS_FT = 'comments_words'\n",
    "ZIP_FILE = 'data/YouTube-Spam-Collection-v1.zip'\n",
    "DIR_TO_EXTRACT = 'data/'\n",
    "EMBED_DIMENSION = 50\n",
    "\n",
    "#Extract the Data\n",
    "zip_ref = zipfile.ZipFile(ZIP_FILE, 'r')\n",
    "zip_ref.extractall(DIR_TO_EXTRACT)\n",
    "zip_ref.close()"
   ]
  },
  {
   "cell_type": "code",
   "execution_count": 2,
   "metadata": {},
   "outputs": [
    {
     "name": "stdout",
     "output_type": "stream",
     "text": [
      "(1956, 5)\n"
     ]
    },
    {
     "data": {
      "text/html": [
       "<div>\n",
       "<style>\n",
       "    .dataframe thead tr:only-child th {\n",
       "        text-align: right;\n",
       "    }\n",
       "\n",
       "    .dataframe thead th {\n",
       "        text-align: left;\n",
       "    }\n",
       "\n",
       "    .dataframe tbody tr th {\n",
       "        vertical-align: top;\n",
       "    }\n",
       "</style>\n",
       "<table border=\"1\" class=\"dataframe\">\n",
       "  <thead>\n",
       "    <tr style=\"text-align: right;\">\n",
       "      <th></th>\n",
       "      <th>COMMENT_ID</th>\n",
       "      <th>AUTHOR</th>\n",
       "      <th>DATE</th>\n",
       "      <th>CONTENT</th>\n",
       "      <th>CLASS</th>\n",
       "    </tr>\n",
       "  </thead>\n",
       "  <tbody>\n",
       "    <tr>\n",
       "      <th>326</th>\n",
       "      <td>z12pyzwiourgc1t2f22wzj5xuoeqvxdp104</td>\n",
       "      <td>Ruben Aviles</td>\n",
       "      <td>2015-01-22T02:08:41.056000</td>\n",
       "      <td>Check out this video on YouTube:﻿</td>\n",
       "      <td>1</td>\n",
       "    </tr>\n",
       "    <tr>\n",
       "      <th>166</th>\n",
       "      <td>z13mebgjooulgzdkt23kzvlqjyrzx32n0</td>\n",
       "      <td>amine moha</td>\n",
       "      <td>2014-11-06T18:11:37</td>\n",
       "      <td>please like : http://www.bubblews.com/news/927...</td>\n",
       "      <td>1</td>\n",
       "    </tr>\n",
       "    <tr>\n",
       "      <th>96</th>\n",
       "      <td>z121ft552pzpzhiab04cffmwitfii3lr5v40k</td>\n",
       "      <td>Crooked Gaming</td>\n",
       "      <td>2014-11-04T00:00:57</td>\n",
       "      <td>I made a gaming channel (Unique right?) :L Ang...</td>\n",
       "      <td>1</td>\n",
       "    </tr>\n",
       "    <tr>\n",
       "      <th>244</th>\n",
       "      <td>z13jddxactekydkim04cfvzijxiygbvgkh4</td>\n",
       "      <td>Patricia  Reyes</td>\n",
       "      <td>2014-10-23T05:24:14</td>\n",
       "      <td>I love the song roar it make me think am fill ...</td>\n",
       "      <td>0</td>\n",
       "    </tr>\n",
       "    <tr>\n",
       "      <th>248</th>\n",
       "      <td>z12vcv5xuqq4gvpgu04ch5ah3vyqwzphryc0k</td>\n",
       "      <td>kissmehk</td>\n",
       "      <td>2015-05-23T19:37:52.240000</td>\n",
       "      <td>:)﻿</td>\n",
       "      <td>0</td>\n",
       "    </tr>\n",
       "  </tbody>\n",
       "</table>\n",
       "</div>"
      ],
      "text/plain": [
       "                                COMMENT_ID           AUTHOR  \\\n",
       "326    z12pyzwiourgc1t2f22wzj5xuoeqvxdp104     Ruben Aviles   \n",
       "166      z13mebgjooulgzdkt23kzvlqjyrzx32n0       amine moha   \n",
       "96   z121ft552pzpzhiab04cffmwitfii3lr5v40k   Crooked Gaming   \n",
       "244    z13jddxactekydkim04cfvzijxiygbvgkh4  Patricia  Reyes   \n",
       "248  z12vcv5xuqq4gvpgu04ch5ah3vyqwzphryc0k         kissmehk   \n",
       "\n",
       "                           DATE  \\\n",
       "326  2015-01-22T02:08:41.056000   \n",
       "166         2014-11-06T18:11:37   \n",
       "96          2014-11-04T00:00:57   \n",
       "244         2014-10-23T05:24:14   \n",
       "248  2015-05-23T19:37:52.240000   \n",
       "\n",
       "                                               CONTENT  CLASS  \n",
       "326                  Check out this video on YouTube:﻿      1  \n",
       "166  please like : http://www.bubblews.com/news/927...      1  \n",
       "96   I made a gaming channel (Unique right?) :L Ang...      1  \n",
       "244  I love the song roar it make me think am fill ...      0  \n",
       "248                                                :)﻿      0  "
      ]
     },
     "execution_count": 2,
     "metadata": {},
     "output_type": "execute_result"
    }
   ],
   "source": [
    "comments_df_list = []\n",
    "comments_file = ['data/Youtube01-Psy.csv','data/Youtube02-KatyPerry.csv','data/Youtube03-LMFAO.csv',\n",
    "                'data/Youtube04-Eminem.csv','data/Youtube05-Shakira.csv']\n",
    "for f in comments_file:\n",
    "    df = pd.read_csv(f,header=0)\n",
    "    comments_df_list.append(df)\n",
    "comments_df = pd.concat(comments_df_list)\n",
    "comments_df = comments_df.sample(frac=1.0)\n",
    "print(comments_df.shape)\n",
    "comments_df.head(5)"
   ]
  },
  {
   "cell_type": "code",
   "execution_count": 3,
   "metadata": {},
   "outputs": [
    {
     "data": {
      "text/plain": [
       "Index(['COMMENT_ID', 'AUTHOR', 'DATE', 'CONTENT', 'CLASS'], dtype='object')"
      ]
     },
     "execution_count": 3,
     "metadata": {},
     "output_type": "execute_result"
    }
   ],
   "source": [
    "comments_df.columns"
   ]
  },
  {
   "cell_type": "code",
   "execution_count": 4,
   "metadata": {},
   "outputs": [
    {
     "name": "stdout",
     "output_type": "stream",
     "text": [
      "94\n"
     ]
    }
   ],
   "source": [
    "average_comments_size = int(sum([len(c) for c in comments_df.CONTENT])/comments_df.shape[0])\n",
    "print(average_comments_size)"
   ]
  },
  {
   "cell_type": "code",
   "execution_count": 5,
   "metadata": {
    "collapsed": true
   },
   "outputs": [],
   "source": [
    "voc_processor = tf.contrib.learn.preprocessing.VocabularyProcessor(average_comments_size)\n",
    "X_transform = voc_processor.fit_transform(comments_df.CONTENT)\n",
    "X_transform = np.array(list(X_transform))\n",
    "y = comments_df.CLASS.values\n",
    "X_tr, X_te, y_train, y_test = model_selection.train_test_split(X_transform, \n",
    "                                    y, test_size=0.2, random_state=42)\n",
    "n_words = len(voc_processor.vocabulary_)"
   ]
  },
  {
   "cell_type": "code",
   "execution_count": 6,
   "metadata": {
    "collapsed": true
   },
   "outputs": [],
   "source": [
    "voc_dict = voc_processor.vocabulary_._mapping\n",
    "sorted_vocab = sorted(voc_dict.items(), key = lambda x : x[1])\n",
    "f = open('/tmp/meta.tsv', 'w')\n",
    "for val in sorted_vocab:\n",
    "    f.write(str(val[0]) + \"\\n\")\n",
    "f.close()"
   ]
  },
  {
   "cell_type": "code",
   "execution_count": 7,
   "metadata": {
    "collapsed": true
   },
   "outputs": [],
   "source": [
    "def get_estimator_spec(inp_lgits, out_lb, trn_prd_m):\n",
    "    preds_cls = tf.argmax(inp_lgits, 1)\n",
    "    if trn_prd_m == tf.estimator.ModeKeys.PREDICT:\n",
    "        preds_vals = {'prd_class': preds_cls, 'prd_pr': tf.nn.softmax(inp_lgits)}\n",
    "        return tf.estimator.EstimatorSpec(\n",
    "        mode=trn_prd_m,\n",
    "        predictions=preds_vals)\n",
    "    tr_l = tf.losses.sparse_softmax_cross_entropy(labels=out_lb, logits=inp_lgits)\n",
    "    if trn_prd_m == tf.estimator.ModeKeys.TRAIN:\n",
    "        adm_opt = tf.train.AdamOptimizer(learning_rate=0.01)\n",
    "        tr_op = adm_opt.minimize(tr_l, global_step=tf.train.get_global_step())\n",
    "        return tf.estimator.EstimatorSpec(trn_prd_m, loss=tr_l, train_op=tr_op)\n",
    "    eval_metric_ops = {'prd_acc': tf.metrics.accuracy(labels=out_lb, predictions=preds_cls)}\n",
    "    return tf.estimator.EstimatorSpec(trn_prd_m, loss=tr_l, train_op=tr_op)"
   ]
  },
  {
   "cell_type": "code",
   "execution_count": 8,
   "metadata": {
    "collapsed": true
   },
   "outputs": [],
   "source": [
    "def rnn_model_fn(features, labels, mode):\n",
    "    comments_wd_vec = tf.contrib.layers.embed_sequence(\n",
    "      features[COMMENTS_FT], vocab_size=n_words, embed_dim=EMBED_DIMENSION)\n",
    "    comments_word_list = tf.unstack(comments_wd_vec, axis=1)\n",
    "    \n",
    "    rnn_cell = tf.nn.rnn_cell.GRUCell(average_comments_size)\n",
    "    \n",
    "    _, comments_encoding = tf.nn.static_rnn(rnn_cell, comments_word_list, dtype=tf.float32)\n",
    "    \n",
    "    logits = tf.layers.dense(inputs=comments_encoding, units=2, activation=None)\n",
    "    \n",
    "    return get_estimator_spec(logits, labels, mode)"
   ]
  },
  {
   "cell_type": "code",
   "execution_count": 9,
   "metadata": {},
   "outputs": [
    {
     "name": "stdout",
     "output_type": "stream",
     "text": [
      "INFO:tensorflow:Using config: {'_task_type': None, '_task_id': 0, '_cluster_spec': <tensorflow.python.training.server_lib.ClusterSpec object at 0x114733c50>, '_master': '', '_num_ps_replicas': 0, '_num_worker_replicas': 0, '_environment': 'local', '_is_chief': True, '_evaluation_master': '', '_tf_config': gpu_options {\n",
      "  per_process_gpu_memory_fraction: 1\n",
      "}\n",
      ", '_tf_random_seed': None, '_save_summary_steps': 10, '_save_checkpoints_secs': 600, '_log_step_count_steps': 10, '_session_config': None, '_save_checkpoints_steps': None, '_keep_checkpoint_max': 5, '_keep_checkpoint_every_n_hours': 10000, '_model_dir': '/tmp/models/'}\n"
     ]
    }
   ],
   "source": [
    "run_config = tf.contrib.learn.RunConfig()\n",
    "run_config = run_config.replace(model_dir='/tmp/models/',save_summary_steps=10,log_step_count_steps=10)\n",
    "classifier = tf.estimator.Estimator(model_fn=rnn_model_fn,config=run_config)"
   ]
  },
  {
   "cell_type": "code",
   "execution_count": 10,
   "metadata": {},
   "outputs": [
    {
     "name": "stdout",
     "output_type": "stream",
     "text": [
      "INFO:tensorflow:Create CheckpointSaverHook.\n",
      "INFO:tensorflow:Saving checkpoints for 1 into /tmp/models/model.ckpt.\n",
      "INFO:tensorflow:loss = 0.6912304, step = 1\n",
      "INFO:tensorflow:global_step/sec: 3.09311\n",
      "INFO:tensorflow:global_step/sec: 11.8687\n",
      "INFO:tensorflow:global_step/sec: 11.8699\n",
      "INFO:tensorflow:global_step/sec: 11.8364\n",
      "INFO:tensorflow:global_step/sec: 11.9659\n",
      "INFO:tensorflow:global_step/sec: 11.551\n",
      "INFO:tensorflow:global_step/sec: 11.3143\n",
      "INFO:tensorflow:global_step/sec: 11.5508\n",
      "INFO:tensorflow:global_step/sec: 11.9426\n",
      "INFO:tensorflow:global_step/sec: 11.9586\n",
      "INFO:tensorflow:loss = 0.0039109336, step = 101 (10.889 sec)\n",
      "INFO:tensorflow:global_step/sec: 11.8764\n",
      "INFO:tensorflow:global_step/sec: 11.4342\n",
      "INFO:tensorflow:global_step/sec: 11.9519\n",
      "INFO:tensorflow:global_step/sec: 11.9224\n",
      "INFO:tensorflow:global_step/sec: 11.8756\n",
      "INFO:tensorflow:global_step/sec: 11.3042\n",
      "INFO:tensorflow:global_step/sec: 11.4061\n",
      "INFO:tensorflow:global_step/sec: 11.5409\n",
      "INFO:tensorflow:global_step/sec: 11.9171\n",
      "INFO:tensorflow:Saving checkpoints for 200 into /tmp/models/model.ckpt.\n",
      "INFO:tensorflow:Loss for final step: 0.041692514.\n"
     ]
    },
    {
     "data": {
      "text/plain": [
       "<tensorflow.python.estimator.estimator.Estimator at 0x117049320>"
      ]
     },
     "execution_count": 10,
     "metadata": {},
     "output_type": "execute_result"
    }
   ],
   "source": [
    "train_input_fn = tf.estimator.inputs.numpy_input_fn(\n",
    "      x={COMMENTS_FT: X_tr},\n",
    "      y=y_train,\n",
    "      batch_size=128,\n",
    "      num_epochs=None,\n",
    "      shuffle=True)\n",
    "classifier.train(input_fn=train_input_fn, steps=200)"
   ]
  },
  {
   "cell_type": "code",
   "execution_count": 11,
   "metadata": {},
   "outputs": [
    {
     "name": "stdout",
     "output_type": "stream",
     "text": [
      "INFO:tensorflow:Restoring parameters from /tmp/models/model.ckpt-200\n",
      "Accuracy: 0.956633\n"
     ]
    }
   ],
   "source": [
    "test_input_fn = tf.estimator.inputs.numpy_input_fn(\n",
    "      x={COMMENTS_FT: X_te},\n",
    "      y=y_test,\n",
    "      num_epochs=1,\n",
    "      shuffle=False)\n",
    "preds = classifier.predict(input_fn=test_input_fn)\n",
    "y_prd = np.array(list(p['prd_class'] for p in preds))\n",
    "y_prd = y_prd.reshape(np.array(y_test).shape)\n",
    "\n",
    "acc = metrics.accuracy_score(y_test, y_prd)\n",
    "print('Accuracy: {0:f}'.format(acc))"
   ]
  },
  {
   "cell_type": "code",
   "execution_count": null,
   "metadata": {
    "collapsed": true
   },
   "outputs": [],
   "source": []
  }
 ],
 "metadata": {
  "kernelspec": {
   "display_name": "Python 3",
   "language": "python",
   "name": "python3"
  },
  "language_info": {
   "codemirror_mode": {
    "name": "ipython",
    "version": 3
   },
   "file_extension": ".py",
   "mimetype": "text/x-python",
   "name": "python",
   "nbconvert_exporter": "python",
   "pygments_lexer": "ipython3",
   "version": "3.6.3"
  }
 },
 "nbformat": 4,
 "nbformat_minor": 2
}
