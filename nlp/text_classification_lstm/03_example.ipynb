{
 "cells": [
  {
   "cell_type": "code",
   "execution_count": 1,
   "metadata": {},
   "outputs": [
    {
     "name": "stderr",
     "output_type": "stream",
     "text": [
      "/Users/i346047/anaconda3/lib/python3.6/importlib/_bootstrap.py:219: RuntimeWarning: compiletime version 3.5 of module 'tensorflow.python.framework.fast_tensor_util' does not match runtime version 3.6\n",
      "  return f(*args, **kwds)\n",
      "/Users/i346047/anaconda3/lib/python3.6/site-packages/h5py/__init__.py:34: FutureWarning: Conversion of the second argument of issubdtype from `float` to `np.floating` is deprecated. In future, it will be treated as `np.float64 == np.dtype(float).type`.\n",
      "  from ._conv import register_converters as _register_converters\n"
     ]
    }
   ],
   "source": [
    "import tensorflow as tf\n",
    "import pandas as pd\n",
    "import numpy as np\n",
    "from sklearn import model_selection\n",
    "from sklearn import metrics\n",
    "import zipfile\n",
    "from sklearn.preprocessing import LabelEncoder\n",
    "W_EMB_SZ = 50\n",
    "NEWS_FT = 'news_words'\n",
    "ZIP_FILE = 'data/NewsAggregatorDataset.zip'\n",
    "DIR_TO_EXTRACT = 'data/'\n",
    "\n",
    "\n",
    "#Extract the Data\n",
    "zip_file_ref = zipfile.ZipFile(ZIP_FILE, 'r')\n",
    "zip_file_ref.extractall(DIR_TO_EXTRACT)\n",
    "zip_file_ref.close()"
   ]
  },
  {
   "cell_type": "code",
   "execution_count": 2,
   "metadata": {
    "collapsed": true
   },
   "outputs": [],
   "source": [
    "news_df = pd.read_csv('data/newsCorpora.csv',delimiter='\\t', header=None, \n",
    "                      names=['ID','TITLE','URL','PUBLISHER','CATEGORY','STORY','HOSTNAME','TIMESTAMP'])"
   ]
  },
  {
   "cell_type": "code",
   "execution_count": 3,
   "metadata": {},
   "outputs": [
    {
     "data": {
      "text/html": [
       "<div>\n",
       "<style>\n",
       "    .dataframe thead tr:only-child th {\n",
       "        text-align: right;\n",
       "    }\n",
       "\n",
       "    .dataframe thead th {\n",
       "        text-align: left;\n",
       "    }\n",
       "\n",
       "    .dataframe tbody tr th {\n",
       "        vertical-align: top;\n",
       "    }\n",
       "</style>\n",
       "<table border=\"1\" class=\"dataframe\">\n",
       "  <thead>\n",
       "    <tr style=\"text-align: right;\">\n",
       "      <th></th>\n",
       "      <th>ID</th>\n",
       "      <th>TITLE</th>\n",
       "      <th>URL</th>\n",
       "      <th>PUBLISHER</th>\n",
       "      <th>CATEGORY</th>\n",
       "      <th>STORY</th>\n",
       "      <th>HOSTNAME</th>\n",
       "      <th>TIMESTAMP</th>\n",
       "    </tr>\n",
       "  </thead>\n",
       "  <tbody>\n",
       "    <tr>\n",
       "      <th>135806</th>\n",
       "      <td>136142</td>\n",
       "      <td>Interest rates will stay rock bottom as long a...</td>\n",
       "      <td>http://www.inman.com/2014/04/18/interest-rates...</td>\n",
       "      <td>Inman.com</td>\n",
       "      <td>b</td>\n",
       "      <td>d_VVtjgpgeVnjYMXi6xcS7sGLrZiM</td>\n",
       "      <td>www.inman.com</td>\n",
       "      <td>1397885061309</td>\n",
       "    </tr>\n",
       "    <tr>\n",
       "      <th>319431</th>\n",
       "      <td>319891</td>\n",
       "      <td>Del Rey single again</td>\n",
       "      <td>http://www.carlow-nationalist.ie/2014/06/24/de...</td>\n",
       "      <td>The Nationalist</td>\n",
       "      <td>e</td>\n",
       "      <td>dJD9KwQaNI-FLEM3Fv7dfAMpLRzFM</td>\n",
       "      <td>www.carlow-nationalist.ie</td>\n",
       "      <td>1403795313486</td>\n",
       "    </tr>\n",
       "    <tr>\n",
       "      <th>108538</th>\n",
       "      <td>108735</td>\n",
       "      <td>VIDEO: Late-night laughs: Ukraine edition</td>\n",
       "      <td>http://news.ftcpublications.com/2014/04/video-...</td>\n",
       "      <td>FTC Publications</td>\n",
       "      <td>e</td>\n",
       "      <td>dnYNH7DEqNtjdHMtz3zaqIgeiKc1M</td>\n",
       "      <td>news.ftcpublications.com</td>\n",
       "      <td>1397404827974</td>\n",
       "    </tr>\n",
       "    <tr>\n",
       "      <th>91471</th>\n",
       "      <td>91547</td>\n",
       "      <td>As Lime Prices Rise, Metro Phoenix Restaurants...</td>\n",
       "      <td>http://blogs.phoenixnewtimes.com/bella/2014/04...</td>\n",
       "      <td>Phoenix New Times \\(blog\\)</td>\n",
       "      <td>b</td>\n",
       "      <td>ddP_OW4ua21zq4MMIct4QiubD95dM</td>\n",
       "      <td>blogs.phoenixnewtimes.com</td>\n",
       "      <td>1396988470112</td>\n",
       "    </tr>\n",
       "    <tr>\n",
       "      <th>408398</th>\n",
       "      <td>408917</td>\n",
       "      <td>Guardians of cinema (sort of)</td>\n",
       "      <td>http://www.dailyiowan.com/2014/07/31/Arts/3854...</td>\n",
       "      <td>UI The Daily Iowan</td>\n",
       "      <td>e</td>\n",
       "      <td>dRKkK4WvOrveL8MhZkIl6QVHX805M</td>\n",
       "      <td>www.dailyiowan.com</td>\n",
       "      <td>1406875704667</td>\n",
       "    </tr>\n",
       "  </tbody>\n",
       "</table>\n",
       "</div>"
      ],
      "text/plain": [
       "            ID                                              TITLE  \\\n",
       "135806  136142  Interest rates will stay rock bottom as long a...   \n",
       "319431  319891                               Del Rey single again   \n",
       "108538  108735          VIDEO: Late-night laughs: Ukraine edition   \n",
       "91471    91547  As Lime Prices Rise, Metro Phoenix Restaurants...   \n",
       "408398  408917                      Guardians of cinema (sort of)   \n",
       "\n",
       "                                                      URL  \\\n",
       "135806  http://www.inman.com/2014/04/18/interest-rates...   \n",
       "319431  http://www.carlow-nationalist.ie/2014/06/24/de...   \n",
       "108538  http://news.ftcpublications.com/2014/04/video-...   \n",
       "91471   http://blogs.phoenixnewtimes.com/bella/2014/04...   \n",
       "408398  http://www.dailyiowan.com/2014/07/31/Arts/3854...   \n",
       "\n",
       "                         PUBLISHER CATEGORY                          STORY  \\\n",
       "135806                   Inman.com        b  d_VVtjgpgeVnjYMXi6xcS7sGLrZiM   \n",
       "319431             The Nationalist        e  dJD9KwQaNI-FLEM3Fv7dfAMpLRzFM   \n",
       "108538            FTC Publications        e  dnYNH7DEqNtjdHMtz3zaqIgeiKc1M   \n",
       "91471   Phoenix New Times \\(blog\\)        b  ddP_OW4ua21zq4MMIct4QiubD95dM   \n",
       "408398          UI The Daily Iowan        e  dRKkK4WvOrveL8MhZkIl6QVHX805M   \n",
       "\n",
       "                         HOSTNAME      TIMESTAMP  \n",
       "135806              www.inman.com  1397885061309  \n",
       "319431  www.carlow-nationalist.ie  1403795313486  \n",
       "108538   news.ftcpublications.com  1397404827974  \n",
       "91471   blogs.phoenixnewtimes.com  1396988470112  \n",
       "408398         www.dailyiowan.com  1406875704667  "
      ]
     },
     "execution_count": 3,
     "metadata": {},
     "output_type": "execute_result"
    }
   ],
   "source": [
    "news_df = news_df.sample(frac=1.0)\n",
    "news_df.head(5)"
   ]
  },
  {
   "cell_type": "code",
   "execution_count": 4,
   "metadata": {
    "collapsed": true
   },
   "outputs": [],
   "source": [
    "average_title_sz = int(sum([len(c) for c in news_df.TITLE])/news_df.shape[0])"
   ]
  },
  {
   "cell_type": "code",
   "execution_count": 5,
   "metadata": {
    "collapsed": true
   },
   "outputs": [],
   "source": [
    "lencoder = LabelEncoder()\n",
    "voc_processor = tf.contrib.learn.preprocessing.VocabularyProcessor(average_title_sz)\n",
    "X_transform = voc_processor.fit_transform(news_df.TITLE)\n",
    "X_transform = np.array(list(X_transform))\n",
    "y = lencoder.fit_transform(news_df.CATEGORY.values)\n",
    "X_train, X_test, y_train, y_test = model_selection.train_test_split(X_transform, \n",
    "                                    y, test_size=0.2, random_state=42)\n",
    "n_words = len(voc_processor.vocabulary_)\n",
    "n_classes = len(lencoder.classes_)"
   ]
  },
  {
   "cell_type": "code",
   "execution_count": 6,
   "metadata": {
    "collapsed": true
   },
   "outputs": [],
   "source": [
    "voc_dict = voc_processor.vocabulary_._mapping\n",
    "sorted_vocab = sorted(voc_dict.items(), key = lambda x : x[1])\n",
    "f = open('/tmp/meta.tsv', 'w')\n",
    "for val in sorted_vocab:\n",
    "    f.write(str(val[0]) + \"\\n\")\n",
    "f.close()"
   ]
  },
  {
   "cell_type": "code",
   "execution_count": 7,
   "metadata": {
    "collapsed": true
   },
   "outputs": [],
   "source": [
    "def get_estimator_spec(input_logits, out_lb, train_predict_m):\n",
    "    preds_cls = tf.argmax(input_logits, 1)\n",
    "    if train_predict_m == tf.estimator.ModeKeys.PREDICT:\n",
    "        return tf.estimator.EstimatorSpec(\n",
    "        mode=train_predict_m,\n",
    "        predictions={\n",
    "            'pred_class': preds_cls,\n",
    "            'pred_prob': tf.nn.softmax(input_logits)\n",
    "        })\n",
    "    tr_l = tf.losses.sparse_softmax_cross_entropy(labels=out_lb, logits=input_logits)\n",
    "    if train_predict_m == tf.estimator.ModeKeys.TRAIN:\n",
    "        adm_opt = tf.train.AdamOptimizer(learning_rate=0.01)\n",
    "        tr_op = adm_opt.minimize(tr_l, global_step=tf.train.get_global_step())\n",
    "        return tf.estimator.EstimatorSpec(train_predict_m, loss=tr_l, train_op=tr_op)\n",
    "    eval_metric_ops = {'accuracy': tf.metrics.accuracy(labels=out_lb, predictions=preds_cls)}\n",
    "    return tf.estimator.EstimatorSpec(train_predict_m, loss=tr_l, train_op=tr_op)"
   ]
  },
  {
   "cell_type": "code",
   "execution_count": 8,
   "metadata": {
    "collapsed": true
   },
   "outputs": [],
   "source": [
    "filt_sz=3\n",
    "num_filters=5\n",
    "def cnn_model_fn(features,labels,mode):\n",
    "    news_word_vectors = tf.contrib.layers.embed_sequence(features[NEWS_FT], vocab_size=n_words, \n",
    "                                                         embed_dim=W_EMB_SZ)\n",
    "    news_word_vectors = tf.expand_dims(news_word_vectors, -1)\n",
    "    filt_shp = [filt_sz, W_EMB_SZ, 1, num_filters]\n",
    "    Wt_vect = tf.truncated_normal(filt_shp, stddev=0.1)\n",
    "    W = tf.Variable(Wt_vect, name=\"W\")\n",
    "    b_vect = tf.constant(0.1, shape=[num_filters])\n",
    "    b = tf.Variable(b_vect, name=\"b\")\n",
    "    strides_vect = [1,1,1,1]\n",
    "    conv1 = tf.nn.conv2d(news_word_vectors,\n",
    "            W,\n",
    "            strides=strides_vect,\n",
    "            padding=\"VALID\",\n",
    "            name=\"conv1\")\n",
    "    relu1 = tf.nn.relu(tf.nn.bias_add(conv1, b), name=\"relu\")\n",
    "    ksize_vect = [1, average_title_sz - 3 + 1, 1, 1]\n",
    "    pool1 = tf.nn.max_pool(\n",
    "            relu1,\n",
    "            ksize=ksize_vect,\n",
    "            strides=strides_vect,\n",
    "            padding='VALID',\n",
    "            name=\"pool1\")\n",
    "    activations1 = tf.contrib.layers.flatten(pool1)\n",
    "    logits = tf.contrib.layers.fully_connected(activations1,n_classes,activation_fn=None)\n",
    "    return get_estimator_spec(input_logits=logits, out_lb=labels, train_predict_m=mode)"
   ]
  },
  {
   "cell_type": "code",
   "execution_count": 9,
   "metadata": {},
   "outputs": [
    {
     "name": "stdout",
     "output_type": "stream",
     "text": [
      "INFO:tensorflow:Using config: {'_task_type': None, '_task_id': 0, '_cluster_spec': <tensorflow.python.training.server_lib.ClusterSpec object at 0x11bf15198>, '_master': '', '_num_ps_replicas': 0, '_num_worker_replicas': 0, '_environment': 'local', '_is_chief': True, '_evaluation_master': '', '_tf_config': gpu_options {\n",
      "  per_process_gpu_memory_fraction: 1\n",
      "}\n",
      ", '_tf_random_seed': None, '_save_summary_steps': 10, '_save_checkpoints_secs': 600, '_log_step_count_steps': 10, '_session_config': None, '_save_checkpoints_steps': None, '_keep_checkpoint_max': 5, '_keep_checkpoint_every_n_hours': 10000, '_model_dir': '/tmp/models/'}\n",
      "INFO:tensorflow:Create CheckpointSaverHook.\n",
      "INFO:tensorflow:Saving checkpoints for 1 into /tmp/models/model.ckpt.\n",
      "INFO:tensorflow:loss = 1.3967932, step = 1\n",
      "INFO:tensorflow:global_step/sec: 0.0414788\n",
      "INFO:tensorflow:global_step/sec: 0.0430198\n",
      "INFO:tensorflow:Saving checkpoints for 27 into /tmp/models/model.ckpt.\n",
      "INFO:tensorflow:global_step/sec: 0.0423592\n",
      "INFO:tensorflow:global_step/sec: 0.0430382\n",
      "INFO:tensorflow:global_step/sec: 0.0413288\n",
      "INFO:tensorflow:Saving checkpoints for 53 into /tmp/models/model.ckpt.\n",
      "INFO:tensorflow:global_step/sec: 0.0403929\n",
      "INFO:tensorflow:global_step/sec: 0.0409514\n",
      "INFO:tensorflow:Saving checkpoints for 78 into /tmp/models/model.ckpt.\n",
      "INFO:tensorflow:global_step/sec: 0.0393326\n",
      "INFO:tensorflow:global_step/sec: 0.0398089\n",
      "INFO:tensorflow:Saving checkpoints for 100 into /tmp/models/model.ckpt.\n",
      "INFO:tensorflow:Loss for final step: 0.037623864.\n"
     ]
    },
    {
     "data": {
      "text/plain": [
       "<tensorflow.python.estimator.estimator.Estimator at 0x11bf15a58>"
      ]
     },
     "execution_count": 9,
     "metadata": {},
     "output_type": "execute_result"
    }
   ],
   "source": [
    "run_config = tf.contrib.learn.RunConfig()\n",
    "run_config = run_config.replace(model_dir='/tmp/models/',save_summary_steps=10,log_step_count_steps=10)\n",
    "classifier = tf.estimator.Estimator(model_fn=cnn_model_fn,config=run_config)\n",
    "train_input_fn = tf.estimator.inputs.numpy_input_fn(\n",
    "      x={NEWS_FT: X_train},\n",
    "      y=y_train,\n",
    "      batch_size=len(X_train),\n",
    "      num_epochs=None,\n",
    "      shuffle=True)\n",
    "classifier.train(input_fn=train_input_fn, steps=100)"
   ]
  },
  {
   "cell_type": "code",
   "execution_count": 10,
   "metadata": {},
   "outputs": [
    {
     "name": "stdout",
     "output_type": "stream",
     "text": [
      "INFO:tensorflow:Restoring parameters from /tmp/models/model.ckpt-100\n",
      "Accuracy: 0.919866\n",
      "[[21014   542   331  1255]\n",
      " [  656 29274    37   598]\n",
      " [  647    99  8015   444]\n",
      " [ 1333   517   311 19411]]\n"
     ]
    }
   ],
   "source": [
    "test_input_fn = tf.estimator.inputs.numpy_input_fn(\n",
    "      x={NEWS_FT: X_test},\n",
    "      y=y_test,\n",
    "      num_epochs=1,\n",
    "      shuffle=False)\n",
    "predictions = classifier.predict(input_fn=test_input_fn)\n",
    "y_predicted = np.array(list(p['pred_class'] for p in predictions))\n",
    "y_predicted = y_predicted.reshape(np.array(y_test).shape)\n",
    "cls_mets = metrics.accuracy_score(y_test, y_predicted)\n",
    "print('Accuracy: {0:f}'.format(cls_mets))\n",
    "print(metrics.confusion_matrix(y_test,y_predicted))"
   ]
  },
  {
   "cell_type": "code",
   "execution_count": null,
   "metadata": {
    "collapsed": true
   },
   "outputs": [],
   "source": []
  }
 ],
 "metadata": {
  "kernelspec": {
   "display_name": "Python 3",
   "language": "python",
   "name": "python3"
  },
  "language_info": {
   "codemirror_mode": {
    "name": "ipython",
    "version": 3
   },
   "file_extension": ".py",
   "mimetype": "text/x-python",
   "name": "python",
   "nbconvert_exporter": "python",
   "pygments_lexer": "ipython3",
   "version": "3.6.3"
  }
 },
 "nbformat": 4,
 "nbformat_minor": 2
}
